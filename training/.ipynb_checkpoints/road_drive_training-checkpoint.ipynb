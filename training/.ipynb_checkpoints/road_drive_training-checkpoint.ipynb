{
 "cells": [
  {
   "cell_type": "code",
   "execution_count": 14,
   "metadata": {},
   "outputs": [],
   "source": [
    "import cv2\n",
    "import os\n",
    "import imutils\n",
    "import numpy as np\n",
    "import natsort\n",
    "import matplotlib.pyplot as plt\n",
    "from keras.utils import np_utils\n",
    "from keras.datasets import mnist\n",
    "from keras.models import Sequential\n",
    "from keras.layers import Dense, Activation, Flatten"
   ]
  },
  {
   "cell_type": "code",
   "execution_count": 2,
   "metadata": {},
   "outputs": [],
   "source": [
    "os.chdir(\"./\")"
   ]
  },
  {
   "cell_type": "code",
   "execution_count": 28,
   "metadata": {},
   "outputs": [],
   "source": [
    "def Rename():\n",
    "    count = 0\n",
    "    for name in os.listdir('./'):\n",
    "        if name.find('.jpg') != -1:\n",
    "            image = cv2.imread('./'+name, cv2.IMREAD_COLOR)\n",
    "            if count < 9 : cv2.imwrite('./road_000'+str(count+1)+'.jpg', image)\n",
    "            elif count < 99 : cv2.imwrite('./road_00'+str(count+1)+'.jpg', image)\n",
    "            elif count < 999 : cv2.imwrite('./road_0'+str(count+1)+'.jpg', image)\n",
    "            else : cv2.imwrite(save_path+'/road_'+str(count+1)+'.jpg', image)\n",
    "            count += 1"
   ]
  },
  {
   "cell_type": "code",
   "execution_count": 2,
   "metadata": {},
   "outputs": [],
   "source": [
    "def load_X_train(X, path):\n",
    "    for image in natsort.natsorted(os.listdir('frames')):\n",
    "        img = cv2.imread(path+'/'+image, cv2.IMREAD_COLOR)\n",
    "        X.append(cv2.cvtColor(img, cv2.COLOR_BGR2GRAY))"
   ]
  },
  {
   "cell_type": "code",
   "execution_count": 3,
   "metadata": {},
   "outputs": [],
   "source": [
    "def load_Y_train(Y, path):\n",
    "    r = open(path, mode='rt', encoding='utf-8')\n",
    "    contents = r.readlines()\n",
    "    for i in contents:\n",
    "        Y.append(i[:1])"
   ]
  },
  {
   "cell_type": "code",
   "execution_count": 4,
   "metadata": {},
   "outputs": [],
   "source": [
    "def oneHotEncoder(Y):\n",
    "    OHI_Y = []\n",
    "    for i in Y:\n",
    "        if i == 'l': OHI_Y.append(0)\n",
    "        elif i == 'r': OHI_Y.append(1)\n",
    "        elif i == 'f': OHI_Y.append(2)\n",
    "        else: OHI_Y.append(3)\n",
    "    return OHI_Y"
   ]
  },
  {
   "cell_type": "code",
   "execution_count": 7,
   "metadata": {},
   "outputs": [],
   "source": [
    "os.chdir(\"../training_dataset/road_drive_dataset\")"
   ]
  },
  {
   "cell_type": "code",
   "execution_count": 8,
   "metadata": {},
   "outputs": [],
   "source": [
    "rm -rf ./frames/.DS_STORE"
   ]
  },
  {
   "cell_type": "code",
   "execution_count": 10,
   "metadata": {},
   "outputs": [],
   "source": [
    "x_train = []\n",
    "y_train = []\n",
    "\n",
    "load_X_train(x_train, 'frames')\n",
    "load_Y_train(y_train, 'y_train.txt')"
   ]
  },
  {
   "cell_type": "code",
   "execution_count": 11,
   "metadata": {},
   "outputs": [],
   "source": [
    "x_train = np.array(x_train)\n",
    "x_train = x_train.reshape(800, 187500).astype('float32')"
   ]
  },
  {
   "cell_type": "code",
   "execution_count": 12,
   "metadata": {},
   "outputs": [
    {
     "data": {
      "text/plain": [
       "array([[ 92.,  92.,  92., ..., 155., 155., 155.],\n",
       "       [120., 124., 128., ..., 162., 161., 160.],\n",
       "       [ 76.,  78.,  80., ..., 146., 145., 146.],\n",
       "       ...,\n",
       "       [  0.,   0.,   0., ..., 156., 155., 154.],\n",
       "       [ 70.,  72.,  73., ..., 142., 142., 142.],\n",
       "       [ 89.,  90.,  91., ..., 129., 128., 126.]], dtype=float32)"
      ]
     },
     "execution_count": 12,
     "metadata": {},
     "output_type": "execute_result"
    }
   ],
   "source": [
    "x_train"
   ]
  },
  {
   "cell_type": "code",
   "execution_count": 16,
   "metadata": {},
   "outputs": [],
   "source": [
    "y_train = oneHotEncoder(y_train)\n",
    "y_train = np.array(y_train)\n",
    "y_train = np_utils.to_categorical(y_train)"
   ]
  },
  {
   "cell_type": "code",
   "execution_count": 17,
   "metadata": {},
   "outputs": [],
   "source": [
    "model = Sequential()\n",
    "model.add(Dense(units=64, input_dim=187500, activation='relu'))\n",
    "model.add(Dense(units=32, activation='relu'))\n",
    "model.add(Dense(units=4, activation='softmax'))"
   ]
  },
  {
   "cell_type": "code",
   "execution_count": 21,
   "metadata": {},
   "outputs": [],
   "source": [
    "model.compile(loss='categorical_crossentropy', optimizer='rmsprop', metrics=['accuracy'])"
   ]
  },
  {
   "cell_type": "code",
   "execution_count": 22,
   "metadata": {},
   "outputs": [
    {
     "name": "stdout",
     "output_type": "stream",
     "text": [
      "Model: \"sequential_1\"\n",
      "_________________________________________________________________\n",
      "Layer (type)                 Output Shape              Param #   \n",
      "=================================================================\n",
      "dense_1 (Dense)              (None, 64)                12000064  \n",
      "_________________________________________________________________\n",
      "dense_2 (Dense)              (None, 32)                2080      \n",
      "_________________________________________________________________\n",
      "dense_3 (Dense)              (None, 4)                 132       \n",
      "=================================================================\n",
      "Total params: 12,002,276\n",
      "Trainable params: 12,002,276\n",
      "Non-trainable params: 0\n",
      "_________________________________________________________________\n"
     ]
    }
   ],
   "source": [
    "model.summary()"
   ]
  },
  {
   "cell_type": "code",
   "execution_count": null,
   "metadata": {},
   "outputs": [],
   "source": [
    "model.fit(x_train, y_train, epochs=10, batch_size=1)"
   ]
  }
 ],
 "metadata": {
  "kernelspec": {
   "display_name": "Python 3",
   "language": "python",
   "name": "python3"
  },
  "language_info": {
   "codemirror_mode": {
    "name": "ipython",
    "version": 3
   },
   "file_extension": ".py",
   "mimetype": "text/x-python",
   "name": "python",
   "nbconvert_exporter": "python",
   "pygments_lexer": "ipython3",
   "version": "3.7.6"
  }
 },
 "nbformat": 4,
 "nbformat_minor": 4
}
