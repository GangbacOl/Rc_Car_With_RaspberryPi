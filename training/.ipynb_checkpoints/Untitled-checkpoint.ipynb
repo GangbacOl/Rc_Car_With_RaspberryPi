{
 "cells": [
  {
   "cell_type": "code",
   "execution_count": 47,
   "metadata": {},
   "outputs": [],
   "source": [
    "import cv2\n",
    "import numpy as np\n",
    "from copy import copy\n",
    "import matplotlib.pyplot as plt\n",
    "import os\n",
    "import natsort"
   ]
  },
  {
   "cell_type": "code",
   "execution_count": 60,
   "metadata": {},
   "outputs": [],
   "source": [
    "def LR_classifier():\n",
    "    left = []\n",
    "    right = []\n",
    "\n",
    "    count = 0\n",
    "\n",
    "    for i in Y:\n",
    "        if i == 'l':\n",
    "            left.append(road_picture[count])\n",
    "        elif i == 'r':\n",
    "            right.append(road_picture[count])\n",
    "        count += 1"
   ]
  },
  {
   "cell_type": "code",
   "execution_count": 66,
   "metadata": {},
   "outputs": [],
   "source": [
    "def color_filtering(ROI):\n",
    "    hsv = cv2.cvtColor(ROI, cv2.COLOR_BGR2HSV)\n",
    "\n",
    "    lower_blue = np.array([110, 50, 50])\n",
    "    upper_blue = np.array([130, 255, 255])\n",
    "\n",
    "    mask_blue = cv2.inRange(hsv, lower_blue, upper_blue)\n",
    "    \n",
    "    return mask_blue"
   ]
  },
  {
   "cell_type": "code",
   "execution_count": 62,
   "metadata": {},
   "outputs": [
    {
     "data": {
      "text/plain": [
       "'/Users/gangbacol/Desktop/Development/socket_RaspberryPi_Mac/training_dataset/road_drive_dataset/frames'"
      ]
     },
     "execution_count": 62,
     "metadata": {},
     "output_type": "execute_result"
    }
   ],
   "source": [
    "pwd"
   ]
  },
  {
   "cell_type": "code",
   "execution_count": 4,
   "metadata": {},
   "outputs": [
    {
     "name": "stdout",
     "output_type": "stream",
     "text": [
      "/Users/gangbacol/Desktop/Development/socket_RaspberryPi_Mac/training_dataset/road_drive_dataset/frame_1\n"
     ]
    }
   ],
   "source": [
    "cd ../training_dataset/road_drive_dataset/frames"
   ]
  },
  {
   "cell_type": "code",
   "execution_count": null,
   "metadata": {},
   "outputs": [],
   "source": [
    "src = cv2.imread(\"./road_0164.jpg\", cv2.IMREAD_COLOR)\n",
    "cuttingImg = src[250:][0:]\n",
    "\n",
    "plt.imshow(cuttingImg)"
   ]
  },
  {
   "cell_type": "code",
   "execution_count": 67,
   "metadata": {},
   "outputs": [],
   "source": [
    "mask_blue = color_filtering(cuttingImg)"
   ]
  },
  {
   "cell_type": "code",
   "execution_count": 68,
   "metadata": {},
   "outputs": [],
   "source": [
    "dst = src.copy()\n",
    "lines = cv2.HoughLinesP(mask_blue, 0.8, np.pi / 180, 90, minLineLength = 10, maxLineGap = 100)\n",
    "\n",
    "lines[:, 0, 1] = lines[:, 0, 1] + 250\n",
    "lines[:, 0, 3] = lines[:, 0, 3] + 250\n",
    "\n",
    "for i in lines:\n",
    "    cv2.line(dst, (i[0][0], i[0][1]), (i[0][2], i[0][3]), (0, 0, 255), 2)"
   ]
  },
  {
   "cell_type": "code",
   "execution_count": 15,
   "metadata": {},
   "outputs": [],
   "source": [
    "slope_degree = (np.arctan2(lines[:, 0, 1] - lines[:, 0, 3], lines[:, 0, 0] - lines[:, 0, 2]) * 180) / np.pi"
   ]
  },
  {
   "cell_type": "code",
   "execution_count": 21,
   "metadata": {},
   "outputs": [
    {
     "name": "stdout",
     "output_type": "stream",
     "text": [
      "[-147.05078488 -147.01147839 -135.         -146.89831517] [[[266 296 343 373]]]\n"
     ]
    }
   ],
   "source": [
    "print(slope_degree,\n",
    "        lines[np.abs(slope_degree)<142])"
   ]
  },
  {
   "cell_type": "code",
   "execution_count": 23,
   "metadata": {},
   "outputs": [
    {
     "data": {
      "text/plain": [
       "-143.990144610975"
      ]
     },
     "execution_count": 23,
     "metadata": {},
     "output_type": "execute_result"
    }
   ],
   "source": [
    "np.average(slope_degree)"
   ]
  },
  {
   "cell_type": "code",
   "execution_count": 17,
   "metadata": {},
   "outputs": [],
   "source": [
    "for i in lines:\n",
    "    cv2.line(dst, (i[0][0], i[0][1]), (i[0][2], i[0][3]), (0, 0, 255), 2)"
   ]
  },
  {
   "cell_type": "code",
   "execution_count": 18,
   "metadata": {},
   "outputs": [],
   "source": [
    "cv2.imshow(\"dst\", dst)\n",
    "cv2.waitKey(0)\n",
    "cv2.destroyAllWindows()"
   ]
  },
  {
   "cell_type": "code",
   "execution_count": 29,
   "metadata": {},
   "outputs": [
    {
     "name": "stdout",
     "output_type": "stream",
     "text": [
      "\u001b[34mframe_1\u001b[m\u001b[m             \u001b[34mframe_3\u001b[m\u001b[m             \u001b[34mmodel\u001b[m\u001b[m               \u001b[34mtest\u001b[m\u001b[m\r\n",
      "\u001b[34mframe_2\u001b[m\u001b[m             \u001b[34mframes\u001b[m\u001b[m              road_drive_model.h5 y_train.txt\r\n"
     ]
    }
   ],
   "source": [
    "# cd ..\n",
    "!ls"
   ]
  },
  {
   "cell_type": "code",
   "execution_count": 31,
   "metadata": {},
   "outputs": [],
   "source": [
    "def read_road_direction():\n",
    "    Y = []\n",
    "    r = open('../y_train.txt', mode='rt', encoding='utf-8')\n",
    "    contents = r.readlines()\n",
    "    for i in contents:\n",
    "        Y.append(i[:1])"
   ]
  },
  {
   "cell_type": "code",
   "execution_count": 57,
   "metadata": {},
   "outputs": [],
   "source": [
    "os.chdir('frames') #frames 디렉토리로 이동\n",
    "road_picture = natsort.natsorted(os.listdir('./'))"
   ]
  },
  {
   "cell_type": "code",
   "execution_count": null,
   "metadata": {},
   "outputs": [],
   "source": []
  }
 ],
 "metadata": {
  "kernelspec": {
   "display_name": "Python 3",
   "language": "python",
   "name": "python3"
  },
  "language_info": {
   "codemirror_mode": {
    "name": "ipython",
    "version": 3
   },
   "file_extension": ".py",
   "mimetype": "text/x-python",
   "name": "python",
   "nbconvert_exporter": "python",
   "pygments_lexer": "ipython3",
   "version": "3.7.6"
  }
 },
 "nbformat": 4,
 "nbformat_minor": 4
}
