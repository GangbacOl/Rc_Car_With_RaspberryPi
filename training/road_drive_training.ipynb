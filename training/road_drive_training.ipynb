{
 "cells": [
  {
   "cell_type": "code",
   "execution_count": 2,
   "metadata": {},
   "outputs": [
    {
     "name": "stderr",
     "output_type": "stream",
     "text": [
      "Using TensorFlow backend.\n"
     ]
    }
   ],
   "source": [
    "import cv2\n",
    "import os\n",
    "import imutils\n",
    "import numpy as np\n",
    "import natsort\n",
    "import matplotlib.pyplot as plt\n",
    "from keras.utils import np_utils\n",
    "from keras.datasets import mnist\n",
    "from keras.models import Sequential\n",
    "from keras.layers import Dense, Activation, Flatten\n",
    "from keras.models import load_model"
   ]
  },
  {
   "cell_type": "code",
   "execution_count": 2,
   "metadata": {},
   "outputs": [],
   "source": [
    "os.chdir(\"./\")"
   ]
  },
  {
   "cell_type": "code",
   "execution_count": 28,
   "metadata": {},
   "outputs": [],
   "source": [
    "def Rename():\n",
    "    count = 0\n",
    "    for name in os.listdir('./'):\n",
    "        if name.find('.jpg') != -1:\n",
    "            image = cv2.imread('./'+name, cv2.IMREAD_COLOR)\n",
    "            if count < 9 : cv2.imwrite('./road_000'+str(count+1)+'.jpg', image)\n",
    "            elif count < 99 : cv2.imwrite('./road_00'+str(count+1)+'.jpg', image)\n",
    "            elif count < 999 : cv2.imwrite('./road_0'+str(count+1)+'.jpg', image)\n",
    "            else : cv2.imwrite(save_path+'/road_'+str(count+1)+'.jpg', image)\n",
    "            count += 1"
   ]
  },
  {
   "cell_type": "code",
   "execution_count": 5,
   "metadata": {},
   "outputs": [],
   "source": [
    "def load_X_train(X, path):\n",
    "    for image in natsort.natsorted(os.listdir('frames')):\n",
    "        img = cv2.imread(path+'/'+image, cv2.IMREAD_COLOR)\n",
    "        X.append(cv2.cvtColor(img, cv2.COLOR_BGR2GRAY))"
   ]
  },
  {
   "cell_type": "code",
   "execution_count": 6,
   "metadata": {},
   "outputs": [],
   "source": [
    "def load_Y_train(Y, path):\n",
    "    r = open(path, mode='rt', encoding='utf-8')\n",
    "    contents = r.readlines()\n",
    "    for i in contents:\n",
    "        Y.append(i[:1])"
   ]
  },
  {
   "cell_type": "code",
   "execution_count": 7,
   "metadata": {},
   "outputs": [],
   "source": [
    "def oneHotEncoder(Y):\n",
    "    OHI_Y = []\n",
    "    for i in Y:\n",
    "        if i == 'l': OHI_Y.append(0)\n",
    "        elif i == 'r': OHI_Y.append(1)\n",
    "        elif i == 'f': OHI_Y.append(2)\n",
    "        else: OHI_Y.append(3)\n",
    "    return OHI_Y"
   ]
  },
  {
   "cell_type": "code",
   "execution_count": 8,
   "metadata": {},
   "outputs": [],
   "source": [
    "os.chdir(\"../training_dataset/road_drive_dataset\")"
   ]
  },
  {
   "cell_type": "code",
   "execution_count": 9,
   "metadata": {},
   "outputs": [],
   "source": [
    "rm -rf ./frames/.DS_STORE"
   ]
  },
  {
   "cell_type": "code",
   "execution_count": 10,
   "metadata": {},
   "outputs": [],
   "source": [
    "x_train = []\n",
    "y_train = []\n",
    "\n",
    "load_X_train(x_train, 'frames')\n",
    "load_Y_train(y_train, 'y_train.txt')"
   ]
  },
  {
   "cell_type": "code",
   "execution_count": 11,
   "metadata": {},
   "outputs": [],
   "source": [
    "x_train = np.array(x_train)\n",
    "x_train = x_train.reshape(800, 187500).astype('float32')"
   ]
  },
  {
   "cell_type": "code",
   "execution_count": 12,
   "metadata": {},
   "outputs": [
    {
     "data": {
      "text/plain": [
       "array([[ 92.,  92.,  92., ..., 155., 155., 155.],\n",
       "       [120., 124., 128., ..., 162., 161., 160.],\n",
       "       [ 76.,  78.,  80., ..., 146., 145., 146.],\n",
       "       ...,\n",
       "       [  0.,   0.,   0., ..., 156., 155., 154.],\n",
       "       [ 70.,  72.,  73., ..., 142., 142., 142.],\n",
       "       [ 89.,  90.,  91., ..., 129., 128., 126.]], dtype=float32)"
      ]
     },
     "execution_count": 12,
     "metadata": {},
     "output_type": "execute_result"
    }
   ],
   "source": [
    "x_train"
   ]
  },
  {
   "cell_type": "code",
   "execution_count": 13,
   "metadata": {},
   "outputs": [],
   "source": [
    "y_train = oneHotEncoder(y_train)\n",
    "y_train = np.array(y_train)\n",
    "y_train = np_utils.to_categorical(y_train)"
   ]
  },
  {
   "cell_type": "code",
   "execution_count": 12,
   "metadata": {},
   "outputs": [],
   "source": [
    "model = Sequential()\n",
    "model.add(Dense(units=64, input_dim=187500, activation='relu'))\n",
    "model.add(Dense(units=32, activation='relu'))\n",
    "model.add(Dense(units=4, activation='softmax'))"
   ]
  },
  {
   "cell_type": "code",
   "execution_count": 13,
   "metadata": {},
   "outputs": [],
   "source": [
    "model.compile(loss='categorical_crossentropy', optimizer='rmsprop', metrics=['accuracy'])"
   ]
  },
  {
   "cell_type": "code",
   "execution_count": 14,
   "metadata": {},
   "outputs": [
    {
     "name": "stdout",
     "output_type": "stream",
     "text": [
      "Model: \"sequential_1\"\n",
      "_________________________________________________________________\n",
      "Layer (type)                 Output Shape              Param #   \n",
      "=================================================================\n",
      "dense_1 (Dense)              (None, 64)                12000064  \n",
      "_________________________________________________________________\n",
      "dense_2 (Dense)              (None, 32)                2080      \n",
      "_________________________________________________________________\n",
      "dense_3 (Dense)              (None, 4)                 132       \n",
      "=================================================================\n",
      "Total params: 12,002,276\n",
      "Trainable params: 12,002,276\n",
      "Non-trainable params: 0\n",
      "_________________________________________________________________\n"
     ]
    }
   ],
   "source": [
    "model.summary()"
   ]
  },
  {
   "cell_type": "code",
   "execution_count": null,
   "metadata": {},
   "outputs": [
    {
     "name": "stdout",
     "output_type": "stream",
     "text": [
      "Epoch 1/70\n",
      "800/800 [==============================] - 2s 2ms/step - loss: 191.9292 - accuracy: 0.7987\n",
      "Epoch 2/70\n",
      "800/800 [==============================] - 2s 2ms/step - loss: 49.5601 - accuracy: 0.8500\n",
      "Epoch 3/70\n",
      "800/800 [==============================] - 2s 2ms/step - loss: 24.9360 - accuracy: 0.8712\n",
      "Epoch 4/70\n",
      "800/800 [==============================] - 2s 2ms/step - loss: 64.6298 - accuracy: 0.8225\n",
      "Epoch 5/70\n",
      "800/800 [==============================] - 2s 2ms/step - loss: 84.2982 - accuracy: 0.7638\n",
      "Epoch 6/70\n",
      "800/800 [==============================] - 2s 2ms/step - loss: 15.5693 - accuracy: 0.8838\n",
      "Epoch 7/70\n",
      "800/800 [==============================] - 2s 2ms/step - loss: 54.6297 - accuracy: 0.8175\n",
      "Epoch 8/70\n",
      "800/800 [==============================] - 2s 2ms/step - loss: 75.0501 - accuracy: 0.8138\n",
      "Epoch 9/70\n",
      "800/800 [==============================] - 2s 2ms/step - loss: 70.9904 - accuracy: 0.8125\n",
      "Epoch 10/70\n",
      "800/800 [==============================] - 2s 2ms/step - loss: 25.2224 - accuracy: 0.8425\n",
      "Epoch 11/70\n",
      "800/800 [==============================] - 2s 2ms/step - loss: 83.9087 - accuracy: 0.7850\n",
      "Epoch 12/70\n",
      "800/800 [==============================] - 2s 2ms/step - loss: 24.3486 - accuracy: 0.8537\n",
      "Epoch 13/70\n",
      "800/800 [==============================] - 2s 2ms/step - loss: 61.2804 - accuracy: 0.8075\n",
      "Epoch 14/70\n",
      "800/800 [==============================] - 2s 2ms/step - loss: 36.3280 - accuracy: 0.8525\n",
      "Epoch 15/70\n",
      "800/800 [==============================] - 2s 2ms/step - loss: 51.6375 - accuracy: 0.8075\n",
      "Epoch 16/70\n",
      "800/800 [==============================] - 2s 2ms/step - loss: 50.6903 - accuracy: 0.7850\n",
      "Epoch 17/70\n",
      "800/800 [==============================] - 2s 2ms/step - loss: 46.8669 - accuracy: 0.8375\n",
      "Epoch 18/70\n",
      "800/800 [==============================] - 2s 2ms/step - loss: 33.6760 - accuracy: 0.8512\n",
      "Epoch 19/70\n",
      "800/800 [==============================] - 2s 3ms/step - loss: 66.3162 - accuracy: 0.8138\n",
      "Epoch 20/70\n",
      "800/800 [==============================] - 2s 2ms/step - loss: 33.9463 - accuracy: 0.8662\n",
      "Epoch 21/70\n",
      "800/800 [==============================] - 2s 2ms/step - loss: 35.4075 - accuracy: 0.8712\n",
      "Epoch 22/70\n",
      "800/800 [==============================] - 2s 2ms/step - loss: 75.5693 - accuracy: 0.8562\n",
      "Epoch 23/70\n",
      "800/800 [==============================] - 2s 2ms/step - loss: 26.1626 - accuracy: 0.8587\n",
      "Epoch 24/70\n",
      "800/800 [==============================] - 2s 2ms/step - loss: 95.1570 - accuracy: 0.7563\n",
      "Epoch 25/70\n",
      "800/800 [==============================] - 2s 2ms/step - loss: 18.8757 - accuracy: 0.6662\n",
      "Epoch 26/70\n",
      "800/800 [==============================] - 2s 2ms/step - loss: 0.8633 - accuracy: 0.6150\n",
      "Epoch 27/70\n",
      "800/800 [==============================] - 2s 2ms/step - loss: 0.8403 - accuracy: 0.4487\n",
      "Epoch 28/70\n",
      "800/800 [==============================] - 2s 2ms/step - loss: 1.1691 - accuracy: 0.3900\n",
      "Epoch 29/70\n",
      "800/800 [==============================] - 2s 2ms/step - loss: 12.5563 - accuracy: 0.4013\n",
      "Epoch 30/70\n",
      "800/800 [==============================] - 2s 2ms/step - loss: 1.1139 - accuracy: 0.4112\n",
      "Epoch 31/70\n",
      "800/800 [==============================] - 2s 2ms/step - loss: 1.0912 - accuracy: 0.4462\n",
      "Epoch 32/70\n",
      "800/800 [==============================] - 2s 2ms/step - loss: 0.9786 - accuracy: 0.6212\n",
      "Epoch 33/70\n",
      "800/800 [==============================] - 2s 2ms/step - loss: 1.3726 - accuracy: 0.3675\n",
      "Epoch 34/70\n",
      "800/800 [==============================] - 2s 2ms/step - loss: 1.3164 - accuracy: 0.3512\n",
      "Epoch 35/70\n",
      "800/800 [==============================] - 2s 2ms/step - loss: 1.3010 - accuracy: 0.3512\n",
      "Epoch 36/70\n",
      "800/800 [==============================] - 2s 2ms/step - loss: 1.2849 - accuracy: 0.3925\n",
      "Epoch 37/70\n",
      "800/800 [==============================] - 2s 2ms/step - loss: 1.2689 - accuracy: 0.4112\n",
      "Epoch 38/70\n",
      "800/800 [==============================] - 2s 2ms/step - loss: 1.2540 - accuracy: 0.4112\n",
      "Epoch 39/70\n",
      "800/800 [==============================] - 2s 2ms/step - loss: 1.2399 - accuracy: 0.4112\n",
      "Epoch 40/70\n",
      "800/800 [==============================] - 2s 2ms/step - loss: 1.2271 - accuracy: 0.4112\n",
      "Epoch 41/70\n",
      "800/800 [==============================] - 2s 2ms/step - loss: 1.2157 - accuracy: 0.4112\n",
      "Epoch 42/70\n",
      "800/800 [==============================] - 2s 2ms/step - loss: 1.2053 - accuracy: 0.4112\n",
      "Epoch 43/70\n",
      "800/800 [==============================] - 2s 2ms/step - loss: 1.1961 - accuracy: 0.4112\n",
      "Epoch 44/70\n",
      "800/800 [==============================] - 2s 2ms/step - loss: 1.1885 - accuracy: 0.4112\n",
      "Epoch 45/70\n",
      "800/800 [==============================] - 2s 2ms/step - loss: 1.1819 - accuracy: 0.4112\n",
      "Epoch 46/70\n",
      "800/800 [==============================] - 2s 2ms/step - loss: 1.1759 - accuracy: 0.4112\n",
      "Epoch 47/70\n",
      "800/800 [==============================] - 2s 2ms/step - loss: 1.1712 - accuracy: 0.4112\n",
      "Epoch 48/70\n",
      "800/800 [==============================] - 2s 2ms/step - loss: 1.1671 - accuracy: 0.4112\n",
      "Epoch 49/70\n",
      "800/800 [==============================] - 2s 3ms/step - loss: 1.1635 - accuracy: 0.4112\n",
      "Epoch 50/70\n",
      "800/800 [==============================] - 2s 3ms/step - loss: 1.1607 - accuracy: 0.4112\n",
      "Epoch 51/70\n",
      "800/800 [==============================] - 2s 2ms/step - loss: 1.1585 - accuracy: 0.4112\n",
      "Epoch 52/70\n",
      "800/800 [==============================] - 2s 2ms/step - loss: 1.1566 - accuracy: 0.4112\n",
      "Epoch 53/70\n",
      "800/800 [==============================] - 2s 2ms/step - loss: 1.1552 - accuracy: 0.4112\n",
      "Epoch 54/70\n",
      "800/800 [==============================] - 2s 2ms/step - loss: 1.1539 - accuracy: 0.4112\n",
      "Epoch 55/70\n",
      "800/800 [==============================] - 2s 2ms/step - loss: 1.1531 - accuracy: 0.4112\n",
      "Epoch 56/70\n",
      "800/800 [==============================] - 2s 2ms/step - loss: 1.1523 - accuracy: 0.4112\n",
      "Epoch 57/70\n",
      "800/800 [==============================] - 2s 2ms/step - loss: 1.1517 - accuracy: 0.4112\n",
      "Epoch 58/70\n",
      "800/800 [==============================] - 2s 2ms/step - loss: 1.1511 - accuracy: 0.4112\n",
      "Epoch 59/70\n",
      "800/800 [==============================] - 2s 2ms/step - loss: 1.1509 - accuracy: 0.4112\n",
      "Epoch 60/70\n",
      "352/800 [============>.................] - ETA: 1s - loss: 1.1365 - accuracy: 0.4062"
     ]
    }
   ],
   "source": [
    "model.fit(x_train, y_train, epochs=70, batch_size=32)"
   ]
  },
  {
   "cell_type": "code",
   "execution_count": 15,
   "metadata": {},
   "outputs": [
    {
     "ename": "ValueError",
     "evalue": "If evaluating from data tensors, you should specify the `steps` argument.",
     "output_type": "error",
     "traceback": [
      "\u001b[0;31m---------------------------------------------------------------------------\u001b[0m",
      "\u001b[0;31mValueError\u001b[0m                                Traceback (most recent call last)",
      "\u001b[0;32m<ipython-input-15-34717fd9598c>\u001b[0m in \u001b[0;36m<module>\u001b[0;34m\u001b[0m\n\u001b[0;32m----> 1\u001b[0;31m \u001b[0mmodel\u001b[0m\u001b[0;34m.\u001b[0m\u001b[0mevaluate\u001b[0m\u001b[0;34m(\u001b[0m\u001b[0;34m)\u001b[0m\u001b[0;34m\u001b[0m\u001b[0;34m\u001b[0m\u001b[0m\n\u001b[0m",
      "\u001b[0;32m/usr/local/lib/python3.7/site-packages/keras/engine/training.py\u001b[0m in \u001b[0;36mevaluate\u001b[0;34m(self, x, y, batch_size, verbose, sample_weight, steps, callbacks, max_queue_size, workers, use_multiprocessing)\u001b[0m\n\u001b[1;32m   1340\u001b[0m         \u001b[0;31m# Case 2: Symbolic tensors or Numpy array-like.\u001b[0m\u001b[0;34m\u001b[0m\u001b[0;34m\u001b[0m\u001b[0;34m\u001b[0m\u001b[0m\n\u001b[1;32m   1341\u001b[0m         \u001b[0;32mif\u001b[0m \u001b[0mx\u001b[0m \u001b[0;32mis\u001b[0m \u001b[0;32mNone\u001b[0m \u001b[0;32mand\u001b[0m \u001b[0my\u001b[0m \u001b[0;32mis\u001b[0m \u001b[0;32mNone\u001b[0m \u001b[0;32mand\u001b[0m \u001b[0msteps\u001b[0m \u001b[0;32mis\u001b[0m \u001b[0;32mNone\u001b[0m\u001b[0;34m:\u001b[0m\u001b[0;34m\u001b[0m\u001b[0;34m\u001b[0m\u001b[0m\n\u001b[0;32m-> 1342\u001b[0;31m             raise ValueError('If evaluating from data tensors, '\n\u001b[0m\u001b[1;32m   1343\u001b[0m                              \u001b[0;34m'you should specify the `steps` '\u001b[0m\u001b[0;34m\u001b[0m\u001b[0;34m\u001b[0m\u001b[0m\n\u001b[1;32m   1344\u001b[0m                              'argument.')\n",
      "\u001b[0;31mValueError\u001b[0m: If evaluating from data tensors, you should specify the `steps` argument."
     ]
    }
   ],
   "source": [
    "model.evaluate()"
   ]
  },
  {
   "cell_type": "code",
   "execution_count": 14,
   "metadata": {},
   "outputs": [],
   "source": [
    "model = load_model('road_drive_model.h5')"
   ]
  },
  {
   "cell_type": "code",
   "execution_count": 35,
   "metadata": {},
   "outputs": [],
   "source": [
    "img = cv2.imread(i, cv2.IMREAD_GRAYSCALE)\n",
    "img = np.array(img)"
   ]
  },
  {
   "cell_type": "code",
   "execution_count": 50,
   "metadata": {},
   "outputs": [],
   "source": [
    "img = img.reshape()"
   ]
  },
  {
   "cell_type": "code",
   "execution_count": 52,
   "metadata": {},
   "outputs": [
    {
     "data": {
      "text/plain": [
       "119"
      ]
     },
     "execution_count": 52,
     "metadata": {},
     "output_type": "execute_result"
    }
   ],
   "source": [
    "cv2.imshow('img', img)    \n",
    "cv2.waitKey(0)"
   ]
  },
  {
   "cell_type": "code",
   "execution_count": 55,
   "metadata": {},
   "outputs": [
    {
     "ename": "ValueError",
     "evalue": "Error when checking input: expected dense_1_input to have shape (187500,) but got array with shape (500,)",
     "output_type": "error",
     "traceback": [
      "\u001b[0;31m---------------------------------------------------------------------------\u001b[0m",
      "\u001b[0;31mValueError\u001b[0m                                Traceback (most recent call last)",
      "\u001b[0;32m<ipython-input-55-c487e2267fc1>\u001b[0m in \u001b[0;36m<module>\u001b[0;34m\u001b[0m\n\u001b[0;32m----> 1\u001b[0;31m \u001b[0mmodel\u001b[0m\u001b[0;34m.\u001b[0m\u001b[0mpredict_classes\u001b[0m\u001b[0;34m(\u001b[0m\u001b[0mimg\u001b[0m\u001b[0;34m)\u001b[0m\u001b[0;34m\u001b[0m\u001b[0;34m\u001b[0m\u001b[0m\n\u001b[0m",
      "\u001b[0;32m/usr/local/lib/python3.7/site-packages/keras/engine/sequential.py\u001b[0m in \u001b[0;36mpredict_classes\u001b[0;34m(self, x, batch_size, verbose)\u001b[0m\n\u001b[1;32m    266\u001b[0m             \u001b[0mA\u001b[0m \u001b[0mnumpy\u001b[0m \u001b[0marray\u001b[0m \u001b[0mof\u001b[0m \u001b[0;32mclass\u001b[0m \u001b[0mpredictions\u001b[0m\u001b[0;34m.\u001b[0m\u001b[0;34m\u001b[0m\u001b[0;34m\u001b[0m\u001b[0m\n\u001b[1;32m    267\u001b[0m         \"\"\"\n\u001b[0;32m--> 268\u001b[0;31m         \u001b[0mproba\u001b[0m \u001b[0;34m=\u001b[0m \u001b[0mself\u001b[0m\u001b[0;34m.\u001b[0m\u001b[0mpredict\u001b[0m\u001b[0;34m(\u001b[0m\u001b[0mx\u001b[0m\u001b[0;34m,\u001b[0m \u001b[0mbatch_size\u001b[0m\u001b[0;34m=\u001b[0m\u001b[0mbatch_size\u001b[0m\u001b[0;34m,\u001b[0m \u001b[0mverbose\u001b[0m\u001b[0;34m=\u001b[0m\u001b[0mverbose\u001b[0m\u001b[0;34m)\u001b[0m\u001b[0;34m\u001b[0m\u001b[0;34m\u001b[0m\u001b[0m\n\u001b[0m\u001b[1;32m    269\u001b[0m         \u001b[0;32mif\u001b[0m \u001b[0mproba\u001b[0m\u001b[0;34m.\u001b[0m\u001b[0mshape\u001b[0m\u001b[0;34m[\u001b[0m\u001b[0;34m-\u001b[0m\u001b[0;36m1\u001b[0m\u001b[0;34m]\u001b[0m \u001b[0;34m>\u001b[0m \u001b[0;36m1\u001b[0m\u001b[0;34m:\u001b[0m\u001b[0;34m\u001b[0m\u001b[0;34m\u001b[0m\u001b[0m\n\u001b[1;32m    270\u001b[0m             \u001b[0;32mreturn\u001b[0m \u001b[0mproba\u001b[0m\u001b[0;34m.\u001b[0m\u001b[0margmax\u001b[0m\u001b[0;34m(\u001b[0m\u001b[0maxis\u001b[0m\u001b[0;34m=\u001b[0m\u001b[0;34m-\u001b[0m\u001b[0;36m1\u001b[0m\u001b[0;34m)\u001b[0m\u001b[0;34m\u001b[0m\u001b[0;34m\u001b[0m\u001b[0m\n",
      "\u001b[0;32m/usr/local/lib/python3.7/site-packages/keras/engine/training.py\u001b[0m in \u001b[0;36mpredict\u001b[0;34m(self, x, batch_size, verbose, steps, callbacks, max_queue_size, workers, use_multiprocessing)\u001b[0m\n\u001b[1;32m   1439\u001b[0m \u001b[0;34m\u001b[0m\u001b[0m\n\u001b[1;32m   1440\u001b[0m         \u001b[0;31m# Case 2: Symbolic tensors or Numpy array-like.\u001b[0m\u001b[0;34m\u001b[0m\u001b[0;34m\u001b[0m\u001b[0;34m\u001b[0m\u001b[0m\n\u001b[0;32m-> 1441\u001b[0;31m         \u001b[0mx\u001b[0m\u001b[0;34m,\u001b[0m \u001b[0m_\u001b[0m\u001b[0;34m,\u001b[0m \u001b[0m_\u001b[0m \u001b[0;34m=\u001b[0m \u001b[0mself\u001b[0m\u001b[0;34m.\u001b[0m\u001b[0m_standardize_user_data\u001b[0m\u001b[0;34m(\u001b[0m\u001b[0mx\u001b[0m\u001b[0;34m)\u001b[0m\u001b[0;34m\u001b[0m\u001b[0;34m\u001b[0m\u001b[0m\n\u001b[0m\u001b[1;32m   1442\u001b[0m         \u001b[0;32mif\u001b[0m \u001b[0mself\u001b[0m\u001b[0;34m.\u001b[0m\u001b[0mstateful\u001b[0m\u001b[0;34m:\u001b[0m\u001b[0;34m\u001b[0m\u001b[0;34m\u001b[0m\u001b[0m\n\u001b[1;32m   1443\u001b[0m             \u001b[0;32mif\u001b[0m \u001b[0mx\u001b[0m\u001b[0;34m[\u001b[0m\u001b[0;36m0\u001b[0m\u001b[0;34m]\u001b[0m\u001b[0;34m.\u001b[0m\u001b[0mshape\u001b[0m\u001b[0;34m[\u001b[0m\u001b[0;36m0\u001b[0m\u001b[0;34m]\u001b[0m \u001b[0;34m>\u001b[0m \u001b[0mbatch_size\u001b[0m \u001b[0;32mand\u001b[0m \u001b[0mx\u001b[0m\u001b[0;34m[\u001b[0m\u001b[0;36m0\u001b[0m\u001b[0;34m]\u001b[0m\u001b[0;34m.\u001b[0m\u001b[0mshape\u001b[0m\u001b[0;34m[\u001b[0m\u001b[0;36m0\u001b[0m\u001b[0;34m]\u001b[0m \u001b[0;34m%\u001b[0m \u001b[0mbatch_size\u001b[0m \u001b[0;34m!=\u001b[0m \u001b[0;36m0\u001b[0m\u001b[0;34m:\u001b[0m\u001b[0;34m\u001b[0m\u001b[0;34m\u001b[0m\u001b[0m\n",
      "\u001b[0;32m/usr/local/lib/python3.7/site-packages/keras/engine/training.py\u001b[0m in \u001b[0;36m_standardize_user_data\u001b[0;34m(self, x, y, sample_weight, class_weight, check_array_lengths, batch_size)\u001b[0m\n\u001b[1;32m    577\u001b[0m             \u001b[0mfeed_input_shapes\u001b[0m\u001b[0;34m,\u001b[0m\u001b[0;34m\u001b[0m\u001b[0;34m\u001b[0m\u001b[0m\n\u001b[1;32m    578\u001b[0m             \u001b[0mcheck_batch_axis\u001b[0m\u001b[0;34m=\u001b[0m\u001b[0;32mFalse\u001b[0m\u001b[0;34m,\u001b[0m  \u001b[0;31m# Don't enforce the batch size.\u001b[0m\u001b[0;34m\u001b[0m\u001b[0;34m\u001b[0m\u001b[0m\n\u001b[0;32m--> 579\u001b[0;31m             exception_prefix='input')\n\u001b[0m\u001b[1;32m    580\u001b[0m \u001b[0;34m\u001b[0m\u001b[0m\n\u001b[1;32m    581\u001b[0m         \u001b[0;32mif\u001b[0m \u001b[0my\u001b[0m \u001b[0;32mis\u001b[0m \u001b[0;32mnot\u001b[0m \u001b[0;32mNone\u001b[0m\u001b[0;34m:\u001b[0m\u001b[0;34m\u001b[0m\u001b[0;34m\u001b[0m\u001b[0m\n",
      "\u001b[0;32m/usr/local/lib/python3.7/site-packages/keras/engine/training_utils.py\u001b[0m in \u001b[0;36mstandardize_input_data\u001b[0;34m(data, names, shapes, check_batch_axis, exception_prefix)\u001b[0m\n\u001b[1;32m    143\u001b[0m                             \u001b[0;34m': expected '\u001b[0m \u001b[0;34m+\u001b[0m \u001b[0mnames\u001b[0m\u001b[0;34m[\u001b[0m\u001b[0mi\u001b[0m\u001b[0;34m]\u001b[0m \u001b[0;34m+\u001b[0m \u001b[0;34m' to have shape '\u001b[0m \u001b[0;34m+\u001b[0m\u001b[0;34m\u001b[0m\u001b[0;34m\u001b[0m\u001b[0m\n\u001b[1;32m    144\u001b[0m                             \u001b[0mstr\u001b[0m\u001b[0;34m(\u001b[0m\u001b[0mshape\u001b[0m\u001b[0;34m)\u001b[0m \u001b[0;34m+\u001b[0m \u001b[0;34m' but got array with shape '\u001b[0m \u001b[0;34m+\u001b[0m\u001b[0;34m\u001b[0m\u001b[0;34m\u001b[0m\u001b[0m\n\u001b[0;32m--> 145\u001b[0;31m                             str(data_shape))\n\u001b[0m\u001b[1;32m    146\u001b[0m     \u001b[0;32mreturn\u001b[0m \u001b[0mdata\u001b[0m\u001b[0;34m\u001b[0m\u001b[0;34m\u001b[0m\u001b[0m\n\u001b[1;32m    147\u001b[0m \u001b[0;34m\u001b[0m\u001b[0m\n",
      "\u001b[0;31mValueError\u001b[0m: Error when checking input: expected dense_1_input to have shape (187500,) but got array with shape (500,)"
     ]
    }
   ],
   "source": [
    "model.predict_classes(img)"
   ]
  },
  {
   "cell_type": "code",
   "execution_count": null,
   "metadata": {},
   "outputs": [],
   "source": []
  }
 ],
 "metadata": {
  "kernelspec": {
   "display_name": "Python 3",
   "language": "python",
   "name": "python3"
  },
  "language_info": {
   "codemirror_mode": {
    "name": "ipython",
    "version": 3
   },
   "file_extension": ".py",
   "mimetype": "text/x-python",
   "name": "python",
   "nbconvert_exporter": "python",
   "pygments_lexer": "ipython3",
   "version": "3.7.6"
  }
 },
 "nbformat": 4,
 "nbformat_minor": 4
}
